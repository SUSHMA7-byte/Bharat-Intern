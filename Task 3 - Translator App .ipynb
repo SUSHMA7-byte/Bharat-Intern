{
 "cells": [
  {
   "cell_type": "markdown",
   "id": "c094b42f",
   "metadata": {},
   "source": [
    "# BHARAT INTERN"
   ]
  },
  {
   "cell_type": "markdown",
   "id": "a36b6f16",
   "metadata": {},
   "source": [
    "# ARTIFICIAL INTELLIGENCE INTERN\n"
   ]
  },
  {
   "cell_type": "markdown",
   "id": "73e5f9d6",
   "metadata": {},
   "source": [
    "# AUTHOR:Sushma S\n"
   ]
  },
  {
   "cell_type": "markdown",
   "id": "083e36df",
   "metadata": {},
   "source": [
    "# TASK 1:Translator App"
   ]
  },
  {
   "cell_type": "markdown",
   "id": "44d48201",
   "metadata": {},
   "source": [
    "# IMPORT PACKAGES"
   ]
  },
  {
   "cell_type": "code",
   "execution_count": 1,
   "id": "d4da13c1",
   "metadata": {},
   "outputs": [],
   "source": [
    "from googletrans import Translator,LANGUAGES\n"
   ]
  },
  {
   "cell_type": "code",
   "execution_count": 2,
   "id": "1bf1248e",
   "metadata": {},
   "outputs": [],
   "source": [
    "from tkinter import ttk"
   ]
  },
  {
   "cell_type": "code",
   "execution_count": 3,
   "id": "b0e2c520",
   "metadata": {},
   "outputs": [],
   "source": [
    "from tkinter import *"
   ]
  },
  {
   "cell_type": "markdown",
   "id": "98045e9f",
   "metadata": {},
   "source": [
    "# CREATING GUI"
   ]
  },
  {
   "cell_type": "code",
   "execution_count": 4,
   "id": "7bd8ce3b",
   "metadata": {},
   "outputs": [
    {
     "data": {
      "text/plain": [
       "''"
      ]
     },
     "execution_count": 4,
     "metadata": {},
     "output_type": "execute_result"
    }
   ],
   "source": [
    "root = Tk()\n",
    "root.geometry('1160x520')\n",
    "root.resizable(0,0)\n"
   ]
  },
  {
   "cell_type": "code",
   "execution_count": 5,
   "id": "5ef32d0f",
   "metadata": {},
   "outputs": [],
   "source": [
    "root['bg']='pink'\n",
    "\n",
    "root.title(\"TASK AT BHARAT INTERN\")\n",
    "Label(root,text=\"TRANSLATOR APP\",font='Calibri 25 bold').pack()"
   ]
  },
  {
   "cell_type": "markdown",
   "id": "c319da3a",
   "metadata": {},
   "source": [
    "# CREATING TEXTBOX FOR INPUT AND OUTPUT"
   ]
  },
  {
   "cell_type": "code",
   "execution_count": 6,
   "id": "2105e90f",
   "metadata": {},
   "outputs": [],
   "source": [
    "Label(root,text=\"ENTER TEXT \",bg='white',font='Calibri 18 bold').place(x=165,y=90)"
   ]
  },
  {
   "cell_type": "code",
   "execution_count": 7,
   "id": "879284f4",
   "metadata": {},
   "outputs": [
    {
     "data": {
      "text/plain": [
       "''"
      ]
     },
     "execution_count": 7,
     "metadata": {},
     "output_type": "execute_result"
    }
   ],
   "source": [
    "inputText=Entry(root,width=80)\n",
    "inputText.place(x=40,y=130)\n",
    "inputText.get()"
   ]
  },
  {
   "cell_type": "code",
   "execution_count": 8,
   "id": "e6a860cc",
   "metadata": {},
   "outputs": [],
   "source": [
    "Label(root,text=\"OUTPUT \",bg='white',font='Calibri 18 bold').place(x=780,y=90)\n",
    "Output_Text=Text(root,font='Calibri 18 bold',padx=5,pady=5,height=3,wrap=WORD,width=40)\n",
    "Output_Text.place(x=600,y=130)\n",
    "\n",
    "language=list(LANGUAGES.values())\n",
    "dest_lang=ttk.Combobox(root,values=language,width=44)\n",
    "dest_lang.place(x=130,y=180)\n",
    "dest_lang.set('Choose Language')"
   ]
  },
  {
   "cell_type": "markdown",
   "id": "1fbf2787",
   "metadata": {},
   "source": [
    "# CREATING A FUNCTION NAMED 'trans' FOR FETCHING THE DATA"
   ]
  },
  {
   "cell_type": "code",
   "execution_count": 9,
   "id": "df606192",
   "metadata": {},
   "outputs": [],
   "source": [
    "def trans():\n",
    "    translator=Translator()\n",
    "    translated=translator.translate(text=inputText.get(),dest=dest_lang.get())\n",
    "    Output_Text.delete(1.0,END)\n",
    "    Output_Text.insert(END,translated.text)\n",
    "    \n",
    "button=Button(root,text='Translate',font='Calibri 18 bold',pady=5,command=trans,bg='violet',activebackground='red')\n",
    "button.place(x=445,y=280)\n",
    "\n",
    "root.mainloop()"
   ]
  },
  {
   "cell_type": "code",
   "execution_count": null,
   "id": "4e25ce3d",
   "metadata": {},
   "outputs": [],
   "source": []
  }
 ],
 "metadata": {
  "kernelspec": {
   "display_name": "Python 3 (ipykernel)",
   "language": "python",
   "name": "python3"
  },
  "language_info": {
   "codemirror_mode": {
    "name": "ipython",
    "version": 3
   },
   "file_extension": ".py",
   "mimetype": "text/x-python",
   "name": "python",
   "nbconvert_exporter": "python",
   "pygments_lexer": "ipython3",
   "version": "3.10.9"
  }
 },
 "nbformat": 4,
 "nbformat_minor": 5
}
