{
 "cells": [
  {
   "cell_type": "markdown",
   "id": "91b8b133",
   "metadata": {},
   "source": [
    "# BHARAT INTERN"
   ]
  },
  {
   "cell_type": "markdown",
   "id": "1ef3dab3",
   "metadata": {},
   "source": [
    "# ARTIFICIAL INTELLIGENCE INTERNSHIP\n"
   ]
  },
  {
   "cell_type": "markdown",
   "id": "4c3c6308",
   "metadata": {},
   "source": [
    "# TASK 2:Auto Correct Tool\n"
   ]
  },
  {
   "cell_type": "markdown",
   "id": "43765b05",
   "metadata": {},
   "source": [
    "# AUTHOR: SUSHMA S"
   ]
  },
  {
   "cell_type": "markdown",
   "id": "7b44fdc0",
   "metadata": {},
   "source": [
    "Turning Off The Warnings"
   ]
  },
  {
   "cell_type": "code",
   "execution_count": 1,
   "id": "34234dd7",
   "metadata": {},
   "outputs": [],
   "source": [
    "import warnings\n",
    "warnings.filterwarnings('ignore')"
   ]
  },
  {
   "cell_type": "markdown",
   "id": "178f9e34",
   "metadata": {},
   "source": [
    "# Installing and Importing TEXTBLOB"
   ]
  },
  {
   "cell_type": "markdown",
   "id": "e8c4b457",
   "metadata": {},
   "source": [
    "TextBlob is a Python library that provides a simple API for common natural language processing (NLP) tasks such as part-of-speech tagging, noun phrase extraction, sentiment analysis, and more. It is built on top of NLTK (Natural Language Toolkit) and provides an easy-to-use interface."
   ]
  },
  {
   "cell_type": "code",
   "execution_count": 2,
   "id": "38e7e3f2",
   "metadata": {},
   "outputs": [
    {
     "name": "stdout",
     "output_type": "stream",
     "text": [
      "Requirement already satisfied: textblob in c:\\users\\welcome\\anaconda3\\lib\\site-packages (0.17.1)\n",
      "Requirement already satisfied: nltk>=3.1 in c:\\users\\welcome\\anaconda3\\lib\\site-packages (from textblob) (3.7)\n",
      "Requirement already satisfied: tqdm in c:\\users\\welcome\\anaconda3\\lib\\site-packages (from nltk>=3.1->textblob) (4.64.1)\n",
      "Requirement already satisfied: click in c:\\users\\welcome\\anaconda3\\lib\\site-packages (from nltk>=3.1->textblob) (8.0.4)\n",
      "Requirement already satisfied: joblib in c:\\users\\welcome\\anaconda3\\lib\\site-packages (from nltk>=3.1->textblob) (1.1.1)\n",
      "Requirement already satisfied: regex>=2021.8.3 in c:\\users\\welcome\\anaconda3\\lib\\site-packages (from nltk>=3.1->textblob) (2022.7.9)\n",
      "Requirement already satisfied: colorama in c:\\users\\welcome\\anaconda3\\lib\\site-packages (from click->nltk>=3.1->textblob) (0.4.6)\n"
     ]
    }
   ],
   "source": [
    "!pip install textblob"
   ]
  },
  {
   "cell_type": "markdown",
   "id": "e8a389e2",
   "metadata": {},
   "source": [
    "The TextBlob class is the central class in the TextBlob library and represents a text blob or a piece of text. Some of the common functionalities and tasks that can be performed using the TextBlob class includes Sentiment Analysis,Part-of-Speech Tagging,Noun Phrase Extraction,Text Correction and Tokenization and Word Count and so on."
   ]
  },
  {
   "cell_type": "code",
   "execution_count": 3,
   "id": "14af3f58",
   "metadata": {},
   "outputs": [],
   "source": [
    "from textblob import TextBlob"
   ]
  },
  {
   "cell_type": "code",
   "execution_count": 4,
   "id": "f90ca8cc",
   "metadata": {},
   "outputs": [],
   "source": [
    "tb=TextBlob(\"I want choclatse\")"
   ]
  },
  {
   "cell_type": "code",
   "execution_count": 5,
   "id": "d521a915",
   "metadata": {},
   "outputs": [
    {
     "data": {
      "text/plain": [
       "TextBlob(\"I want chocolate\")"
      ]
     },
     "execution_count": 5,
     "metadata": {},
     "output_type": "execute_result"
    }
   ],
   "source": [
    "tb.correct()"
   ]
  },
  {
   "cell_type": "code",
   "execution_count": 6,
   "id": "4183baf3",
   "metadata": {},
   "outputs": [
    {
     "name": "stdout",
     "output_type": "stream",
     "text": [
      "Polarity: 0.46875\n",
      "Subjectivity: 0.75\n"
     ]
    }
   ],
   "source": [
    "from textblob import TextBlob\n",
    "\n",
    "text = \"I am really excited to use TextBlob!\"\n",
    "blob = TextBlob(text)\n",
    "\n",
    "# Perform sentiment analysis\n",
    "sentiment = blob.sentiment\n",
    "polarity = sentiment.polarity\n",
    "subjectivity = sentiment.subjectivity\n",
    "\n",
    "print(f\"Polarity: {polarity}\")\n",
    "print(f\"Subjectivity: {subjectivity}\")\n"
   ]
  },
  {
   "cell_type": "markdown",
   "id": "4157a59b",
   "metadata": {},
   "source": [
    "The \"Word\" class in TextBlob provides several useful methods for working with individual words in natural language text.Common methods available in the \"Word\" classLemmatization,Synonym and Antonym Lookup,Word Definitions and Word Similarity."
   ]
  },
  {
   "cell_type": "code",
   "execution_count": 7,
   "id": "10a8984c",
   "metadata": {},
   "outputs": [],
   "source": [
    "from textblob import Word"
   ]
  },
  {
   "cell_type": "code",
   "execution_count": 8,
   "id": "a9d3cb5a",
   "metadata": {},
   "outputs": [],
   "source": [
    "word=Word('wrold')"
   ]
  },
  {
   "cell_type": "code",
   "execution_count": 9,
   "id": "073dac58",
   "metadata": {},
   "outputs": [
    {
     "name": "stdout",
     "output_type": "stream",
     "text": [
      "[('world', 1.0)]\n"
     ]
    }
   ],
   "source": [
    "print(word.spellcheck())"
   ]
  },
  {
   "cell_type": "markdown",
   "id": "1cdc16cd",
   "metadata": {},
   "source": [
    "# custom spell checking AI is built Using spello"
   ]
  },
  {
   "cell_type": "code",
   "execution_count": 10,
   "id": "93ed1c1f",
   "metadata": {},
   "outputs": [
    {
     "name": "stdout",
     "output_type": "stream",
     "text": [
      "Requirement already satisfied: spello in c:\\users\\welcome\\anaconda3\\lib\\site-packages (1.3.0)\n",
      "Requirement already satisfied: nltk<4,>=3.4.5 in c:\\users\\welcome\\anaconda3\\lib\\site-packages (from spello) (3.7)\n",
      "Requirement already satisfied: tqdm in c:\\users\\welcome\\anaconda3\\lib\\site-packages (from nltk<4,>=3.4.5->spello) (4.64.1)\n",
      "Requirement already satisfied: joblib in c:\\users\\welcome\\anaconda3\\lib\\site-packages (from nltk<4,>=3.4.5->spello) (1.1.1)\n",
      "Requirement already satisfied: regex>=2021.8.3 in c:\\users\\welcome\\anaconda3\\lib\\site-packages (from nltk<4,>=3.4.5->spello) (2022.7.9)\n",
      "Requirement already satisfied: click in c:\\users\\welcome\\anaconda3\\lib\\site-packages (from nltk<4,>=3.4.5->spello) (8.0.4)\n",
      "Requirement already satisfied: colorama in c:\\users\\welcome\\anaconda3\\lib\\site-packages (from click->nltk<4,>=3.4.5->spello) (0.4.6)\n"
     ]
    }
   ],
   "source": [
    "!pip install spello"
   ]
  },
  {
   "cell_type": "code",
   "execution_count": 11,
   "id": "2916dc56",
   "metadata": {},
   "outputs": [],
   "source": [
    "from spello.model import SpellCorrectionModel"
   ]
  },
  {
   "cell_type": "code",
   "execution_count": 12,
   "id": "d9fc1a73",
   "metadata": {},
   "outputs": [],
   "source": [
    "sp=SpellCorrectionModel(language=\"en\")"
   ]
  },
  {
   "cell_type": "markdown",
   "id": "b324a9e7",
   "metadata": {},
   "source": [
    "THE DATA IS STORED IN SAMPLE.TXT"
   ]
  },
  {
   "cell_type": "code",
   "execution_count": 13,
   "id": "b0ea91d3",
   "metadata": {},
   "outputs": [],
   "source": [
    "with open(r'C:\\Users\\welcome\\Pictures\\Screenshots\\Sample.txt') as file:\n",
    "    d=file.readlines()"
   ]
  },
  {
   "cell_type": "code",
   "execution_count": 14,
   "id": "76833bb3",
   "metadata": {},
   "outputs": [
    {
     "data": {
      "text/plain": [
       "['The peacock is the national bird of India. They have colourful feathers, two legs and a small beak. They are famous for their dance. When a peacock dances it spreads its feathers like a fan. It has a long shiny dark blue neck. Peacocks are mostly found in the fields they are very beautiful birds. The females are known as â€˜Peahen1. Their feathers are used for making jackets, purses etc. We can see them in a zoo.']"
      ]
     },
     "execution_count": 14,
     "metadata": {},
     "output_type": "execute_result"
    }
   ],
   "source": [
    "data=[i.strip() for i in d]\n",
    "data"
   ]
  },
  {
   "cell_type": "code",
   "execution_count": 15,
   "id": "c5626a04",
   "metadata": {},
   "outputs": [
    {
     "name": "stdout",
     "output_type": "stream",
     "text": [
      "Spello training started..\n",
      "Context model training started ...\n",
      "Symspell training started ...\n",
      "Phoneme training started ...\n",
      "Spello training completed successfully ...\n"
     ]
    }
   ],
   "source": [
    "sp.train(data)"
   ]
  },
  {
   "cell_type": "code",
   "execution_count": 16,
   "id": "ba8603ff",
   "metadata": {},
   "outputs": [
    {
     "data": {
      "text/plain": [
       "{'original_text': 'The peacck is the natinl bid of India',\n",
       " 'spell_corrected_text': 'The peacock is the national bird of India',\n",
       " 'correction_dict': {'peacck': 'peacock', 'natinl': 'national', 'bid': 'bird'}}"
      ]
     },
     "execution_count": 16,
     "metadata": {},
     "output_type": "execute_result"
    }
   ],
   "source": [
    "sp.spell_correct(\"The peacck is the natinl bid of India\")"
   ]
  },
  {
   "cell_type": "code",
   "execution_count": 17,
   "id": "9e568bcd",
   "metadata": {},
   "outputs": [
    {
     "data": {
      "text/plain": [
       "{'original_text': 'It has a log shiny dak blue neck',\n",
       " 'spell_corrected_text': 'It has a long shiny dark blue neck',\n",
       " 'correction_dict': {'log': 'long', 'dak': 'dark'}}"
      ]
     },
     "execution_count": 17,
     "metadata": {},
     "output_type": "execute_result"
    }
   ],
   "source": [
    "sp.spell_correct(\"It has a log shiny dak blue neck\")"
   ]
  },
  {
   "cell_type": "markdown",
   "id": "6035bca9",
   "metadata": {},
   "source": [
    "# Installing and importing AUTOCORRECT"
   ]
  },
  {
   "cell_type": "markdown",
   "id": "50e2c3a4",
   "metadata": {},
   "source": [
    "The autocorrect library is a Python package that provides functionality for automatic spelling correction. It includes methods and algorithms to correct misspelled words and suggest alternative corrections based on the context of the input text."
   ]
  },
  {
   "cell_type": "code",
   "execution_count": 18,
   "id": "962a946c",
   "metadata": {},
   "outputs": [
    {
     "name": "stdout",
     "output_type": "stream",
     "text": [
      "Requirement already satisfied: autocorrect in c:\\users\\welcome\\anaconda3\\lib\\site-packages (2.6.1)\n",
      "Note: you may need to restart the kernel to use updated packages.\n"
     ]
    }
   ],
   "source": [
    "pip install autocorrect"
   ]
  },
  {
   "cell_type": "code",
   "execution_count": 19,
   "id": "857e93a4",
   "metadata": {},
   "outputs": [],
   "source": [
    "from autocorrect import spell"
   ]
  },
  {
   "cell_type": "code",
   "execution_count": 20,
   "id": "8f0543b8",
   "metadata": {},
   "outputs": [],
   "source": [
    "data=[\"adress\",\"mispelt\",\"calander\",\"documants\",\"recived\"]"
   ]
  },
  {
   "cell_type": "code",
   "execution_count": 21,
   "id": "92961370",
   "metadata": {},
   "outputs": [
    {
     "data": {
      "text/plain": [
       "['adress', 'mispelt', 'calander', 'documants', 'recived']"
      ]
     },
     "execution_count": 21,
     "metadata": {},
     "output_type": "execute_result"
    }
   ],
   "source": [
    "data"
   ]
  },
  {
   "cell_type": "code",
   "execution_count": 22,
   "id": "8c9e6120",
   "metadata": {},
   "outputs": [
    {
     "name": "stdout",
     "output_type": "stream",
     "text": [
      "autocorrect.spell is deprecated,             use autocorrect.Speller instead\n",
      "address\n",
      "autocorrect.spell is deprecated,             use autocorrect.Speller instead\n",
      "spelt\n",
      "autocorrect.spell is deprecated,             use autocorrect.Speller instead\n",
      "calendar\n",
      "autocorrect.spell is deprecated,             use autocorrect.Speller instead\n",
      "documents\n",
      "autocorrect.spell is deprecated,             use autocorrect.Speller instead\n",
      "received\n"
     ]
    }
   ],
   "source": [
    "for word in data:\n",
    "    print(spell(word))"
   ]
  },
  {
   "cell_type": "code",
   "execution_count": 23,
   "id": "81747412",
   "metadata": {},
   "outputs": [
    {
     "name": "stdout",
     "output_type": "stream",
     "text": [
      "held\n"
     ]
    }
   ],
   "source": [
    "from autocorrect import Speller\n",
    "\n",
    "spell = Speller()\n",
    "\n",
    "misspelled_word = \"helo\"\n",
    "corrected_word = spell(misspelled_word)\n",
    "\n",
    "print(corrected_word)  # Output: \"held\"\n"
   ]
  },
  {
   "cell_type": "markdown",
   "id": "a4f92c4b",
   "metadata": {},
   "source": [
    "# Installing and importing Enchant"
   ]
  },
  {
   "cell_type": "code",
   "execution_count": 24,
   "id": "bdcca1b8",
   "metadata": {},
   "outputs": [
    {
     "name": "stdout",
     "output_type": "stream",
     "text": [
      "Requirement already satisfied: pyenchant in c:\\users\\welcome\\anaconda3\\lib\\site-packages (3.2.2)\n",
      "Note: you may need to restart the kernel to use updated packages.\n"
     ]
    }
   ],
   "source": [
    "pip install pyenchant"
   ]
  },
  {
   "cell_type": "code",
   "execution_count": 25,
   "id": "9a7364e4",
   "metadata": {},
   "outputs": [
    {
     "name": "stdout",
     "output_type": "stream",
     "text": [
      "whole\n"
     ]
    }
   ],
   "source": [
    "import enchant\n",
    "\n",
    "dictionary = enchant.Dict(\"en_US\")\n",
    "misspelled_word = \"whelo\"\n",
    "corrected_word = dictionary.suggest(misspelled_word)[0]\n",
    "\n",
    "print(corrected_word)  # Output: \"whole\"\n"
   ]
  },
  {
   "cell_type": "markdown",
   "id": "47cf43f5",
   "metadata": {},
   "source": [
    "# Installing and importing LanguageTool"
   ]
  },
  {
   "cell_type": "code",
   "execution_count": 26,
   "id": "38004be7",
   "metadata": {},
   "outputs": [
    {
     "name": "stdout",
     "output_type": "stream",
     "text": [
      "Requirement already satisfied: language-tool-python in c:\\users\\welcome\\anaconda3\\lib\\site-packages (2.7.1)\n",
      "Requirement already satisfied: tqdm in c:\\users\\welcome\\anaconda3\\lib\\site-packages (from language-tool-python) (4.64.1)\n",
      "Requirement already satisfied: requests in c:\\users\\welcome\\anaconda3\\lib\\site-packages (from language-tool-python) (2.28.1)\n",
      "Requirement already satisfied: idna<4,>=2.5 in c:\\users\\welcome\\anaconda3\\lib\\site-packages (from requests->language-tool-python) (3.4)\n",
      "Requirement already satisfied: certifi>=2017.4.17 in c:\\users\\welcome\\anaconda3\\lib\\site-packages (from requests->language-tool-python) (2023.5.7)\n",
      "Requirement already satisfied: urllib3<1.27,>=1.21.1 in c:\\users\\welcome\\anaconda3\\lib\\site-packages (from requests->language-tool-python) (1.26.14)\n",
      "Requirement already satisfied: charset-normalizer<3,>=2 in c:\\users\\welcome\\anaconda3\\lib\\site-packages (from requests->language-tool-python) (2.0.4)\n",
      "Requirement already satisfied: colorama in c:\\users\\welcome\\anaconda3\\lib\\site-packages (from tqdm->language-tool-python) (0.4.6)\n",
      "Note: you may need to restart the kernel to use updated packages.\n"
     ]
    }
   ],
   "source": [
    "pip install language-tool-python"
   ]
  },
  {
   "cell_type": "code",
   "execution_count": 27,
   "id": "61b0a206",
   "metadata": {},
   "outputs": [
    {
     "name": "stdout",
     "output_type": "stream",
     "text": [
      "I am going to the park.\n",
      "Auto\n"
     ]
    }
   ],
   "source": [
    "from language_tool_python import LanguageTool\n",
    "\n",
    "tool = LanguageTool('en-US')\n",
    "text = \"I am goign to the park.\"\n",
    "text1=\"Euto\"\n",
    "corrected_text = tool.correct(text)\n",
    "corrected_text2 = tool.correct(text1)\n",
    "print(corrected_text)  # Output: \"I am going to the park.\"\n",
    "print(corrected_text2)# Output: Auto"
   ]
  },
  {
   "cell_type": "code",
   "execution_count": null,
   "id": "72d36f83",
   "metadata": {},
   "outputs": [],
   "source": []
  }
 ],
 "metadata": {
  "kernelspec": {
   "display_name": "Python 3 (ipykernel)",
   "language": "python",
   "name": "python3"
  },
  "language_info": {
   "codemirror_mode": {
    "name": "ipython",
    "version": 3
   },
   "file_extension": ".py",
   "mimetype": "text/x-python",
   "name": "python",
   "nbconvert_exporter": "python",
   "pygments_lexer": "ipython3",
   "version": "3.10.9"
  }
 },
 "nbformat": 4,
 "nbformat_minor": 5
}
