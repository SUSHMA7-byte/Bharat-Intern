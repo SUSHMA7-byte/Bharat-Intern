{
 "cells": [
  {
   "cell_type": "markdown",
   "id": "3415ecc7",
   "metadata": {},
   "source": [
    "# BHARAT INTERN"
   ]
  },
  {
   "cell_type": "markdown",
   "id": "1a7bc7eb",
   "metadata": {},
   "source": [
    "# ARTIFICIAL INTELLIGENCE INTERNSHIP\n"
   ]
  },
  {
   "cell_type": "markdown",
   "id": "6c43238c",
   "metadata": {},
   "source": [
    "# TASK 1 : RESUME PARSER"
   ]
  },
  {
   "cell_type": "markdown",
   "id": "8cf5df73",
   "metadata": {},
   "source": [
    "# AUTHOR: SUSHMA S"
   ]
  },
  {
   "cell_type": "code",
   "execution_count": 1,
   "id": "b8c0e541",
   "metadata": {},
   "outputs": [],
   "source": [
    "#Used to suppress warning messages in Python.\n",
    "import warnings\n",
    "warnings.filterwarnings(\"ignore\")"
   ]
  },
  {
   "cell_type": "markdown",
   "id": "465d4601",
   "metadata": {},
   "source": [
    "# INSTALLING PYRESPARSER"
   ]
  },
  {
   "cell_type": "code",
   "execution_count": 2,
   "id": "7c2e82ed",
   "metadata": {},
   "outputs": [
    {
     "name": "stdout",
     "output_type": "stream",
     "text": [
      "Requirement already satisfied: pyresparser in c:\\users\\welcome\\anaconda3\\lib\\site-packages (1.0.6)\n",
      "Requirement already satisfied: idna>=2.8 in c:\\users\\welcome\\anaconda3\\lib\\site-packages (from pyresparser) (3.4)\n",
      "Requirement already satisfied: python-dateutil>=2.8.0 in c:\\users\\welcome\\anaconda3\\lib\\site-packages (from pyresparser) (2.8.2)\n",
      "Requirement already satisfied: tqdm>=4.32.2 in c:\\users\\welcome\\anaconda3\\lib\\site-packages (from pyresparser) (4.64.1)\n",
      "Requirement already satisfied: wasabi>=0.2.2 in c:\\users\\welcome\\anaconda3\\lib\\site-packages (from pyresparser) (0.10.1)\n",
      "Requirement already satisfied: spacy>=2.1.4 in c:\\users\\welcome\\anaconda3\\lib\\site-packages (from pyresparser) (2.3.9)\n",
      "Requirement already satisfied: pdfminer.six>=20181108 in c:\\users\\welcome\\anaconda3\\lib\\site-packages (from pyresparser) (20221105)\n",
      "Requirement already satisfied: nltk>=3.4.3 in c:\\users\\welcome\\anaconda3\\lib\\site-packages (from pyresparser) (3.7)\n",
      "Requirement already satisfied: pytz>=2019.1 in c:\\users\\welcome\\anaconda3\\lib\\site-packages (from pyresparser) (2022.7)\n",
      "Requirement already satisfied: requests>=2.22.0 in c:\\users\\welcome\\anaconda3\\lib\\site-packages (from pyresparser) (2.28.1)\n",
      "Requirement already satisfied: srsly>=0.0.7 in c:\\users\\welcome\\anaconda3\\lib\\site-packages (from pyresparser) (1.0.6)\n",
      "Requirement already satisfied: pyrsistent>=0.15.2 in c:\\users\\welcome\\anaconda3\\lib\\site-packages (from pyresparser) (0.18.0)\n",
      "Requirement already satisfied: thinc>=7.0.4 in c:\\users\\welcome\\anaconda3\\lib\\site-packages (from pyresparser) (7.4.6)\n",
      "Requirement already satisfied: six>=1.12.0 in c:\\users\\welcome\\anaconda3\\lib\\site-packages (from pyresparser) (1.16.0)\n",
      "Requirement already satisfied: blis>=0.2.4 in c:\\users\\welcome\\anaconda3\\lib\\site-packages (from pyresparser) (0.7.9)\n",
      "Requirement already satisfied: pandas>=0.24.2 in c:\\users\\welcome\\anaconda3\\lib\\site-packages (from pyresparser) (1.5.3)\n",
      "Requirement already satisfied: urllib3>=1.25.3 in c:\\users\\welcome\\anaconda3\\lib\\site-packages (from pyresparser) (1.26.14)\n",
      "Requirement already satisfied: pycryptodome>=3.8.2 in c:\\users\\welcome\\anaconda3\\lib\\site-packages (from pyresparser) (3.18.0)\n",
      "Requirement already satisfied: sortedcontainers>=2.1.0 in c:\\users\\welcome\\anaconda3\\lib\\site-packages (from pyresparser) (2.4.0)\n",
      "Requirement already satisfied: chardet>=3.0.4 in c:\\users\\welcome\\anaconda3\\lib\\site-packages (from pyresparser) (4.0.0)\n",
      "Requirement already satisfied: numpy>=1.16.4 in c:\\users\\welcome\\anaconda3\\lib\\site-packages (from pyresparser) (1.23.5)\n",
      "Requirement already satisfied: cymem>=2.0.2 in c:\\users\\welcome\\anaconda3\\lib\\site-packages (from pyresparser) (2.0.7)\n",
      "Requirement already satisfied: attrs>=19.1.0 in c:\\users\\welcome\\anaconda3\\lib\\site-packages (from pyresparser) (22.1.0)\n",
      "Requirement already satisfied: docx2txt>=0.7 in c:\\users\\welcome\\anaconda3\\lib\\site-packages (from pyresparser) (0.8)\n",
      "Requirement already satisfied: preshed>=2.0.1 in c:\\users\\welcome\\anaconda3\\lib\\site-packages (from pyresparser) (3.0.8)\n",
      "Requirement already satisfied: jsonschema>=3.0.1 in c:\\users\\welcome\\anaconda3\\lib\\site-packages (from pyresparser) (4.17.3)\n",
      "Requirement already satisfied: certifi>=2019.6.16 in c:\\users\\welcome\\anaconda3\\lib\\site-packages (from pyresparser) (2023.5.7)\n",
      "Requirement already satisfied: regex>=2021.8.3 in c:\\users\\welcome\\anaconda3\\lib\\site-packages (from nltk>=3.4.3->pyresparser) (2022.7.9)\n",
      "Requirement already satisfied: joblib in c:\\users\\welcome\\anaconda3\\lib\\site-packages (from nltk>=3.4.3->pyresparser) (1.1.1)\n",
      "Requirement already satisfied: click in c:\\users\\welcome\\anaconda3\\lib\\site-packages (from nltk>=3.4.3->pyresparser) (8.0.4)\n",
      "Requirement already satisfied: charset-normalizer>=2.0.0 in c:\\users\\welcome\\anaconda3\\lib\\site-packages (from pdfminer.six>=20181108->pyresparser) (2.0.4)\n",
      "Requirement already satisfied: cryptography>=36.0.0 in c:\\users\\welcome\\anaconda3\\lib\\site-packages (from pdfminer.six>=20181108->pyresparser) (39.0.1)\n",
      "Requirement already satisfied: murmurhash<1.1.0,>=0.28.0 in c:\\users\\welcome\\anaconda3\\lib\\site-packages (from preshed>=2.0.1->pyresparser) (1.0.9)\n",
      "Requirement already satisfied: catalogue<1.1.0,>=0.0.7 in c:\\users\\welcome\\anaconda3\\lib\\site-packages (from spacy>=2.1.4->pyresparser) (1.0.2)\n",
      "Requirement already satisfied: plac<1.2.0,>=0.9.6 in c:\\users\\welcome\\anaconda3\\lib\\site-packages (from spacy>=2.1.4->pyresparser) (1.1.3)\n",
      "Requirement already satisfied: setuptools in c:\\users\\welcome\\anaconda3\\lib\\site-packages (from spacy>=2.1.4->pyresparser) (65.6.3)\n",
      "Requirement already satisfied: colorama in c:\\users\\welcome\\anaconda3\\lib\\site-packages (from tqdm>=4.32.2->pyresparser) (0.4.6)\n",
      "Requirement already satisfied: cffi>=1.12 in c:\\users\\welcome\\anaconda3\\lib\\site-packages (from cryptography>=36.0.0->pdfminer.six>=20181108->pyresparser) (1.15.1)\n",
      "Requirement already satisfied: pycparser in c:\\users\\welcome\\anaconda3\\lib\\site-packages (from cffi>=1.12->cryptography>=36.0.0->pdfminer.six>=20181108->pyresparser) (2.21)\n",
      "Note: you may need to restart the kernel to use updated packages.\n"
     ]
    }
   ],
   "source": [
    "pip install pyresparser"
   ]
  },
  {
   "cell_type": "markdown",
   "id": "ec1fcb0c",
   "metadata": {},
   "source": [
    "# INSTALLING SPACY AND NLTK"
   ]
  },
  {
   "cell_type": "code",
   "execution_count": 3,
   "id": "18b70720",
   "metadata": {},
   "outputs": [
    {
     "name": "stdout",
     "output_type": "stream",
     "text": [
      "Requirement already satisfied: spacy in c:\\users\\welcome\\anaconda3\\lib\\site-packages (2.3.9)\n",
      "Requirement already satisfied: thinc<7.5.0,>=7.4.1 in c:\\users\\welcome\\anaconda3\\lib\\site-packages (from spacy) (7.4.6)\n",
      "Requirement already satisfied: wasabi<1.1.0,>=0.4.0 in c:\\users\\welcome\\anaconda3\\lib\\site-packages (from spacy) (0.10.1)\n",
      "Requirement already satisfied: tqdm<5.0.0,>=4.38.0 in c:\\users\\welcome\\anaconda3\\lib\\site-packages (from spacy) (4.64.1)\n",
      "Requirement already satisfied: blis<0.8.0,>=0.4.0 in c:\\users\\welcome\\anaconda3\\lib\\site-packages (from spacy) (0.7.9)\n",
      "Requirement already satisfied: srsly<1.1.0,>=1.0.2 in c:\\users\\welcome\\anaconda3\\lib\\site-packages (from spacy) (1.0.6)\n",
      "Requirement already satisfied: preshed<3.1.0,>=3.0.2 in c:\\users\\welcome\\anaconda3\\lib\\site-packages (from spacy) (3.0.8)\n",
      "Requirement already satisfied: catalogue<1.1.0,>=0.0.7 in c:\\users\\welcome\\anaconda3\\lib\\site-packages (from spacy) (1.0.2)\n",
      "Requirement already satisfied: numpy>=1.15.0 in c:\\users\\welcome\\anaconda3\\lib\\site-packages (from spacy) (1.23.5)\n",
      "Requirement already satisfied: murmurhash<1.1.0,>=0.28.0 in c:\\users\\welcome\\anaconda3\\lib\\site-packages (from spacy) (1.0.9)\n",
      "Requirement already satisfied: cymem<2.1.0,>=2.0.2 in c:\\users\\welcome\\anaconda3\\lib\\site-packages (from spacy) (2.0.7)\n",
      "Requirement already satisfied: setuptools in c:\\users\\welcome\\anaconda3\\lib\\site-packages (from spacy) (65.6.3)\n",
      "Requirement already satisfied: plac<1.2.0,>=0.9.6 in c:\\users\\welcome\\anaconda3\\lib\\site-packages (from spacy) (1.1.3)\n",
      "Requirement already satisfied: requests<3.0.0,>=2.13.0 in c:\\users\\welcome\\anaconda3\\lib\\site-packages (from spacy) (2.28.1)\n",
      "Requirement already satisfied: charset-normalizer<3,>=2 in c:\\users\\welcome\\anaconda3\\lib\\site-packages (from requests<3.0.0,>=2.13.0->spacy) (2.0.4)\n",
      "Requirement already satisfied: idna<4,>=2.5 in c:\\users\\welcome\\anaconda3\\lib\\site-packages (from requests<3.0.0,>=2.13.0->spacy) (3.4)\n",
      "Requirement already satisfied: certifi>=2017.4.17 in c:\\users\\welcome\\anaconda3\\lib\\site-packages (from requests<3.0.0,>=2.13.0->spacy) (2023.5.7)\n",
      "Requirement already satisfied: urllib3<1.27,>=1.21.1 in c:\\users\\welcome\\anaconda3\\lib\\site-packages (from requests<3.0.0,>=2.13.0->spacy) (1.26.14)\n",
      "Requirement already satisfied: colorama in c:\\users\\welcome\\anaconda3\\lib\\site-packages (from tqdm<5.0.0,>=4.38.0->spacy) (0.4.6)\n",
      "Requirement already satisfied: nltk in c:\\users\\welcome\\anaconda3\\lib\\site-packages (3.7)\n",
      "Requirement already satisfied: joblib in c:\\users\\welcome\\anaconda3\\lib\\site-packages (from nltk) (1.1.1)\n",
      "Requirement already satisfied: tqdm in c:\\users\\welcome\\anaconda3\\lib\\site-packages (from nltk) (4.64.1)\n",
      "Requirement already satisfied: click in c:\\users\\welcome\\anaconda3\\lib\\site-packages (from nltk) (8.0.4)\n",
      "Requirement already satisfied: regex>=2021.8.3 in c:\\users\\welcome\\anaconda3\\lib\\site-packages (from nltk) (2022.7.9)\n",
      "Requirement already satisfied: colorama in c:\\users\\welcome\\anaconda3\\lib\\site-packages (from click->nltk) (0.4.6)\n"
     ]
    }
   ],
   "source": [
    "# installing spaCy\n",
    "!pip install spacy\n",
    "\n",
    "# installing nltk\n",
    "!pip install nltk"
   ]
  },
  {
   "cell_type": "markdown",
   "id": "b0b399dc",
   "metadata": {},
   "source": [
    "# DOWNLOADING PACKAGE STOPWORDS FROM NLTK"
   ]
  },
  {
   "cell_type": "code",
   "execution_count": 4,
   "id": "22ab5690",
   "metadata": {},
   "outputs": [
    {
     "name": "stderr",
     "output_type": "stream",
     "text": [
      "[nltk_data] Downloading package stopwords to\n",
      "[nltk_data]     C:\\Users\\welcome\\AppData\\Roaming\\nltk_data...\n",
      "[nltk_data]   Package stopwords is already up-to-date!\n"
     ]
    },
    {
     "data": {
      "text/plain": [
       "True"
      ]
     },
     "execution_count": 4,
     "metadata": {},
     "output_type": "execute_result"
    }
   ],
   "source": [
    "import nltk\n",
    "nltk.download(\"stopwords\")"
   ]
  },
  {
   "cell_type": "markdown",
   "id": "462c645e",
   "metadata": {},
   "source": [
    "# extracting necessary data from the resume"
   ]
  },
  {
   "cell_type": "code",
   "execution_count": 5,
   "id": "99fe3b84",
   "metadata": {
    "scrolled": true
   },
   "outputs": [
    {
     "data": {
      "text/plain": [
       "{'name': 'SUSHMA S',\n",
       " 'email': 'sushmasivakumar07@gmail.com',\n",
       " 'mobile_number': '1234567892',\n",
       " 'skills': ['Python',\n",
       "  'Mobile',\n",
       "  'Engineering',\n",
       "  'Analysis',\n",
       "  'Sql',\n",
       "  'Programming',\n",
       "  'Mathematics',\n",
       "  'Java',\n",
       "  'Datasets',\n",
       "  'Technical skills',\n",
       "  'International',\n",
       "  'Opencv',\n",
       "  'Anaconda',\n",
       "  'Technical',\n",
       "  'Database',\n",
       "  'Android',\n",
       "  'Machine learning',\n",
       "  'C'],\n",
       " 'college_name': None,\n",
       " 'degree': ['BE CSE', 'Bachelor of \\nEngineering'],\n",
       " 'designation': None,\n",
       " 'experience': None,\n",
       " 'company_names': ['Infosys Springboard'],\n",
       " 'no_of_pages': 3,\n",
       " 'total_experience': 0}"
      ]
     },
     "execution_count": 5,
     "metadata": {},
     "output_type": "execute_result"
    }
   ],
   "source": [
    "#extracting necessary data from the resume\n",
    "from pyresparser import ResumeParser\n",
    "data = ResumeParser(r'C:\\Users\\welcome\\Downloads\\Internship Reports\\SUSHMA_21CS206_Resume.pdf').get_extracted_data()\n",
    "data"
   ]
  },
  {
   "cell_type": "markdown",
   "id": "45994c3b",
   "metadata": {},
   "source": [
    "# INSTALLING PyPDF2 "
   ]
  },
  {
   "cell_type": "markdown",
   "id": "1f3dace2",
   "metadata": {},
   "source": [
    "PyPDF2 is a Python library for working with PDF files"
   ]
  },
  {
   "cell_type": "code",
   "execution_count": 6,
   "id": "ad748d44",
   "metadata": {},
   "outputs": [
    {
     "name": "stdout",
     "output_type": "stream",
     "text": [
      "Requirement already satisfied: PyPDF2 in c:\\users\\welcome\\anaconda3\\lib\\site-packages (3.0.1)\n"
     ]
    }
   ],
   "source": [
    "!pip install --upgrade PyPDF2\n"
   ]
  },
  {
   "cell_type": "markdown",
   "id": "c85cdd29",
   "metadata": {},
   "source": [
    "# CONVERTING PDF TO TEXT"
   ]
  },
  {
   "cell_type": "code",
   "execution_count": 7,
   "id": "5cd8976d",
   "metadata": {},
   "outputs": [
    {
     "name": "stdout",
     "output_type": "stream",
     "text": [
      "   \n",
      " SUSHMA S  \n",
      "BE CSE 3rd YEAR STUDENT  \n",
      "________________________________________________________________  \n",
      "      E-MAIL: sushmasivakumar07@gmail.com                                             \n",
      "    Contact: +91 -1234567892  \n",
      "  https://www.linkedin.com/in/sushma -s-11712624a  \n",
      "  https://github.com/SUSHMA7 -byte  \n",
      "_________________________________________________________________ ____________________  \n",
      "CAREER OBJECTIVE : \n",
      " A computer science student who wishes to equip myself with additional skills and build a  \n",
      "strong foundation in artificial intelligence, machine learning and data science  . Looking for a \n",
      "challenging role in a reputable organization to utilize my technical, database, and management \n",
      "skills for the growth of the organization as well as to enhance my knowledge about new and \n",
      "emerging trends in the IT sector . \n",
      " \n",
      "TECHNICAL SKILLS:  \n",
      " ARTIFICIAL INTELLIGENCE  \n",
      " MACHINE LEARNING  \n",
      " ANDROID DEVELOPMENT  \n",
      " C PROGRAMMING  \n",
      "  JAVA  \n",
      " PYTHON  \n",
      " SQL \n",
      " PROBLEM SOLVING  \n",
      " INNOVATION AND CREATIVITY  \n",
      "ACADEMIC QUALIFICATION:  \n",
      " \n",
      "QUALIFICATION  INSTITUTION  UNIVERSITY/BOARD  YEAR OF PASSING  PERCENTAGE  \n",
      "Bachelor of \n",
      "Engineering  St. Joseph’s \n",
      "college of \n",
      "Engineering  Anna University          2025  9.502  (Current)  \n",
      "Higher secondary  JEPPIAAR Mat.Hr. \n",
      "Sec.school  Matriculation           2021  91.4%  \n",
      "SSLC  Sushil Hari \n",
      "International Res. \n",
      "School  CBSE            2018  92%  \n",
      " \n",
      "PROFESSIONAL  CERTIFICATIONS : \n",
      " MATHEMATICS FOR MACHINE LEARNING : LINEAR ALGEBRA                                                                                               \n",
      "Coursera  \n",
      " MOBILE APPLICATION DEVELOPMENT -                                                                                            \n",
      "Infosys Springboard  \n",
      " PYTHON FOR DATA SCIENCE                                                                                                             \n",
      "Infosys Springboard   \n",
      " PYTHON AND DATA SCIENCE – A Practical guide                                                                                                                               \n",
      "Infosys Springboard  \n",
      " ARTIFICIAL INTELLIGENCE FOUNDATIONS : Machine Learning  \n",
      "LinkedIn Learning  \n",
      " Data Science for Beginners  \n",
      "Scaler Topics  \n",
      " Introduction To Artificial Intel ligence  \n",
      "Great Learning  \n",
      " JAVA PROGRAMMING FOR COMPLETE BEGINNERS  -                                                                                                             \n",
      "Udemy  \n",
      " \n",
      " \n",
      " PROJECTS DONE : \n",
      " Artificial Intelligence : \n",
      " FACE DETECTION using OpenCV  \n",
      " Covid  19 Analysis using datasets  \n",
      " Accuracy Prediction for Iris Dataset  \n",
      " \n",
      "Android Development : \n",
      " BMI Calculator App  \n",
      " Inches Convertor App  \n",
      " The Hungry Developer App  \n",
      " My Bucket List App  \n",
      " Paint App  \n",
      "___________________________________________________________________  \n",
      " EXPERIENCES : \n",
      " RETECH SOLUTIONS:  \n",
      "Worked as a trainee in Artificial Intelligence Domain where I worked with Jupiter Notebook and \n",
      "anaconda navigator.  \n",
      " NSIC – Technical Services Centre  \n",
      " Worked as a trainee in Android Development domain where I learnt to build fe w basic \n",
      "apps  like time picker, menu lists.  \n",
      "______________________________________________________________________________  \n",
      "  \n",
      "   \n",
      " \n"
     ]
    }
   ],
   "source": [
    "import PyPDF2\n",
    "\n",
    "def convert_pdf_to_text(pdf_file):\n",
    "    # Open the PDF file in read binary mode\n",
    "    with open(pdf_file, 'rb') as file:\n",
    "        pdf_reader = PyPDF2.PdfReader(file)\n",
    "\n",
    "        # Initialize an empty string for storing the extracted text\n",
    "        extracted_text = \"\"\n",
    "\n",
    "        # Iterate through each page of the PDF\n",
    "        for page in pdf_reader.pages:\n",
    "            # Extract the text from the current page\n",
    "            text = page.extract_text()\n",
    "\n",
    "            # Append the extracted text to the result string\n",
    "            extracted_text += text\n",
    "\n",
    "    return extracted_text\n",
    "pdf_file = r'C:\\Users\\welcome\\Downloads\\Internship Reports\\SUSHMA_21CS206_Resume.pdf'\n",
    "resume_text = convert_pdf_to_text(pdf_file)\n",
    "print(resume_text)\n"
   ]
  },
  {
   "cell_type": "markdown",
   "id": "05e03682",
   "metadata": {},
   "source": [
    "# EXTRACTING NECESSARY INFORMATION FROM RESUME"
   ]
  },
  {
   "cell_type": "code",
   "execution_count": 8,
   "id": "e0f319ee",
   "metadata": {},
   "outputs": [
    {
     "name": "stdout",
     "output_type": "stream",
     "text": [
      "Name: SUSHMA S\n",
      "Email: sushmasivakumar07@gmail.com\n",
      "Phone: 1234567892\n",
      "Skills: ['Python', 'Mobile', 'Engineering', 'Analysis', 'Sql', 'Programming', 'Mathematics', 'Java', 'Datasets', 'Technical skills', 'International', 'Opencv', 'Anaconda', 'Technical', 'Database', 'Android', 'Machine learning', 'C']\n",
      "Experience: None\n"
     ]
    }
   ],
   "source": [
    "from pyresparser import ResumeParser\n",
    "\n",
    "resume_path = r'C:\\Users\\welcome\\Downloads\\Internship Reports\\SUSHMA_21CS206_Resume.pdf'\n",
    "parser = ResumeParser(resume_path)\n",
    "data = parser.get_extracted_data()\n",
    "\n",
    "# Access the extracted information\n",
    "name = data.get(\"name\")\n",
    "email = data.get(\"email\")\n",
    "phone = data.get(\"mobile_number\")\n",
    "skills = data.get(\"skills\")\n",
    "experience = data.get(\"experience\")\n",
    "\n",
    "# Print the extracted information\n",
    "print(\"Name:\", name)\n",
    "print(\"Email:\", email)\n",
    "print(\"Phone:\", phone)\n",
    "print(\"Skills:\", skills)\n",
    "print(\"Experience:\", experience)\n"
   ]
  },
  {
   "cell_type": "markdown",
   "id": "c27d6617",
   "metadata": {},
   "source": [
    "# CHECKING WHETHER THE SKILLS OF THE CANDIDATE MEETS THE PRDEFINED SKILLS"
   ]
  },
  {
   "cell_type": "code",
   "execution_count": 9,
   "id": "67fb337b",
   "metadata": {},
   "outputs": [
    {
     "name": "stdout",
     "output_type": "stream",
     "text": [
      "ELIGIBLE FOR THE JOB SINCE THE CANDIDATE HAS ALL THE NECESSARY SKILLS\n",
      "\n",
      "The skills of the candidate are as follows:\n",
      "\n",
      "['Python', 'Mobile', 'Engineering', 'Analysis', 'Sql', 'Programming', 'Mathematics', 'Java', 'Datasets', 'Technical skills', 'International', 'Opencv', 'Anaconda', 'Technical', 'Database', 'Android', 'Machine learning', 'C']"
     ]
    }
   ],
   "source": [
    "from pyresparser import ResumeParser\n",
    "\n",
    "# Provide the path to the resume file\n",
    "resume_path = r'C:\\Users\\welcome\\Downloads\\Internship Reports\\SUSHMA_21CS206_Resume.pdf'\n",
    "\n",
    "# Create a ResumeParser instance\n",
    "parser = ResumeParser(resume_path)\n",
    "\n",
    "# Parse the resume and extract information\n",
    "data = parser.get_extracted_data()\n",
    "skills = data.get(\"skills\")\n",
    "# List of predefined skills\n",
    "skills_list = ['Python', 'Data Analysis', 'Machine Learning', 'Communication', 'Project Management', 'Deep Learning', 'SQL', 'Tableau']\n",
    "\n",
    "if (skill in skills_list for skill in skills):\n",
    "    print(\"ELIGIBLE FOR THE JOB SINCE THE CANDIDATE HAS ALL THE NECESSARY SKILLS\\n\")\n",
    "    print(\"The skills of the candidate are as follows:\\n\")\n",
    "    print(skills,end=\"\")\n",
    "else:\n",
    "    print(\"No skills found\")"
   ]
  },
  {
   "cell_type": "code",
   "execution_count": 10,
   "id": "8ce7a6e9",
   "metadata": {},
   "outputs": [
    {
     "name": "stdout",
     "output_type": "stream",
     "text": [
      "Matched Keywords: ['developer']\n"
     ]
    },
    {
     "name": "stderr",
     "output_type": "stream",
     "text": [
      "[nltk_data] Downloading package punkt to\n",
      "[nltk_data]     C:\\Users\\welcome\\AppData\\Roaming\\nltk_data...\n",
      "[nltk_data]   Package punkt is already up-to-date!\n",
      "[nltk_data] Downloading package stopwords to\n",
      "[nltk_data]     C:\\Users\\welcome\\AppData\\Roaming\\nltk_data...\n",
      "[nltk_data]   Package stopwords is already up-to-date!\n"
     ]
    }
   ],
   "source": [
    "import nltk\n",
    "from nltk.corpus import stopwords\n",
    "from nltk.tokenize import word_tokenize\n",
    "\n",
    "nltk.download('punkt')\n",
    "nltk.download('stopwords')\n",
    "\n",
    "def check_resume_match(resume_file, job_keywords):\n",
    "    with open(resume_file, 'r') as file:\n",
    "        resume_text = file.read()\n",
    "    resume_tokens = word_tokenize(resume_text.lower())\n",
    "    stop_words = set(stopwords.words('english'))\n",
    "    filtered_tokens = [token for token in resume_tokens if token not in stop_words]\n",
    "\n",
    "    # Check for keyword matches\n",
    "    matches = [token for token in filtered_tokens if token in job_keywords]\n",
    "\n",
    "    return matches\n",
    "resume_file = r'C:\\Users\\welcome\\Downloads\\Internship Reports\\SUSHMA_21CS206_Resume.txt'\n",
    "job_keywords = ['software', 'developer', 'Python', 'web development']\n",
    "\n",
    "matched_keywords = check_resume_match(resume_file, job_keywords)\n",
    "print(\"Matched Keywords:\", matched_keywords)\n"
   ]
  },
  {
   "cell_type": "code",
   "execution_count": null,
   "id": "53900f99",
   "metadata": {},
   "outputs": [],
   "source": []
  }
 ],
 "metadata": {
  "kernelspec": {
   "display_name": "Python 3 (ipykernel)",
   "language": "python",
   "name": "python3"
  },
  "language_info": {
   "codemirror_mode": {
    "name": "ipython",
    "version": 3
   },
   "file_extension": ".py",
   "mimetype": "text/x-python",
   "name": "python",
   "nbconvert_exporter": "python",
   "pygments_lexer": "ipython3",
   "version": "3.10.9"
  }
 },
 "nbformat": 4,
 "nbformat_minor": 5
}
